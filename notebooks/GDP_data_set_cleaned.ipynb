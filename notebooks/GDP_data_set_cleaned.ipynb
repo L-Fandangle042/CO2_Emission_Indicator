{
 "cells": [
  {
   "cell_type": "code",
   "execution_count": 7,
   "id": "a446e800",
   "metadata": {},
   "outputs": [],
   "source": [
    "import pandas as pd\n",
    "import numpy as np"
   ]
  },
  {
   "cell_type": "code",
   "execution_count": 8,
   "id": "9c1632bb",
   "metadata": {},
   "outputs": [],
   "source": [
    "GDP_yearly_path= \"../data/world_country_gdp_usd.csv\""
   ]
  },
  {
   "cell_type": "code",
   "execution_count": 9,
   "id": "f2753701",
   "metadata": {},
   "outputs": [],
   "source": [
    "GDP_df = pd.read_csv(GDP_yearly_path, on_bad_lines='skip')"
   ]
  },
  {
   "cell_type": "code",
   "execution_count": 10,
   "id": "13db014d",
   "metadata": {},
   "outputs": [
    {
     "data": {
      "text/html": [
       "<div>\n",
       "<style scoped>\n",
       "    .dataframe tbody tr th:only-of-type {\n",
       "        vertical-align: middle;\n",
       "    }\n",
       "\n",
       "    .dataframe tbody tr th {\n",
       "        vertical-align: top;\n",
       "    }\n",
       "\n",
       "    .dataframe thead th {\n",
       "        text-align: right;\n",
       "    }\n",
       "</style>\n",
       "<table border=\"1\" class=\"dataframe\">\n",
       "  <thead>\n",
       "    <tr style=\"text-align: right;\">\n",
       "      <th></th>\n",
       "      <th>Country Name</th>\n",
       "      <th>Country Code</th>\n",
       "      <th>year</th>\n",
       "      <th>GDP_USD</th>\n",
       "      <th>GDP_per_capita_USD</th>\n",
       "    </tr>\n",
       "  </thead>\n",
       "  <tbody>\n",
       "    <tr>\n",
       "      <th>0</th>\n",
       "      <td>Aruba</td>\n",
       "      <td>ABW</td>\n",
       "      <td>1960</td>\n",
       "      <td>NaN</td>\n",
       "      <td>NaN</td>\n",
       "    </tr>\n",
       "    <tr>\n",
       "      <th>1</th>\n",
       "      <td>Africa Eastern and Southern</td>\n",
       "      <td>AFE</td>\n",
       "      <td>1960</td>\n",
       "      <td>2.129059e+10</td>\n",
       "      <td>162.726326</td>\n",
       "    </tr>\n",
       "    <tr>\n",
       "      <th>2</th>\n",
       "      <td>Afghanistan</td>\n",
       "      <td>AFG</td>\n",
       "      <td>1960</td>\n",
       "      <td>5.377778e+08</td>\n",
       "      <td>59.773234</td>\n",
       "    </tr>\n",
       "    <tr>\n",
       "      <th>3</th>\n",
       "      <td>Africa Western and Central</td>\n",
       "      <td>AFW</td>\n",
       "      <td>1960</td>\n",
       "      <td>1.040414e+10</td>\n",
       "      <td>107.930722</td>\n",
       "    </tr>\n",
       "    <tr>\n",
       "      <th>4</th>\n",
       "      <td>Angola</td>\n",
       "      <td>AGO</td>\n",
       "      <td>1960</td>\n",
       "      <td>NaN</td>\n",
       "      <td>NaN</td>\n",
       "    </tr>\n",
       "    <tr>\n",
       "      <th>...</th>\n",
       "      <td>...</td>\n",
       "      <td>...</td>\n",
       "      <td>...</td>\n",
       "      <td>...</td>\n",
       "      <td>...</td>\n",
       "    </tr>\n",
       "    <tr>\n",
       "      <th>16487</th>\n",
       "      <td>Kosovo</td>\n",
       "      <td>XKX</td>\n",
       "      <td>2021</td>\n",
       "      <td>9.007159e+09</td>\n",
       "      <td>4986.582469</td>\n",
       "    </tr>\n",
       "    <tr>\n",
       "      <th>16488</th>\n",
       "      <td>Yemen, Rep.</td>\n",
       "      <td>YEM</td>\n",
       "      <td>2021</td>\n",
       "      <td>2.106169e+10</td>\n",
       "      <td>690.759273</td>\n",
       "    </tr>\n",
       "    <tr>\n",
       "      <th>16489</th>\n",
       "      <td>South Africa</td>\n",
       "      <td>ZAF</td>\n",
       "      <td>2021</td>\n",
       "      <td>4.199460e+11</td>\n",
       "      <td>6994.211654</td>\n",
       "    </tr>\n",
       "    <tr>\n",
       "      <th>16490</th>\n",
       "      <td>Zambia</td>\n",
       "      <td>ZMB</td>\n",
       "      <td>2021</td>\n",
       "      <td>2.120306e+10</td>\n",
       "      <td>1120.630171</td>\n",
       "    </tr>\n",
       "    <tr>\n",
       "      <th>16491</th>\n",
       "      <td>Zimbabwe</td>\n",
       "      <td>ZWE</td>\n",
       "      <td>2021</td>\n",
       "      <td>2.621773e+10</td>\n",
       "      <td>1737.173977</td>\n",
       "    </tr>\n",
       "  </tbody>\n",
       "</table>\n",
       "<p>16492 rows × 5 columns</p>\n",
       "</div>"
      ],
      "text/plain": [
       "                      Country Name Country Code  year       GDP_USD  \\\n",
       "0                            Aruba          ABW  1960           NaN   \n",
       "1      Africa Eastern and Southern          AFE  1960  2.129059e+10   \n",
       "2                      Afghanistan          AFG  1960  5.377778e+08   \n",
       "3       Africa Western and Central          AFW  1960  1.040414e+10   \n",
       "4                           Angola          AGO  1960           NaN   \n",
       "...                            ...          ...   ...           ...   \n",
       "16487                       Kosovo          XKX  2021  9.007159e+09   \n",
       "16488                  Yemen, Rep.          YEM  2021  2.106169e+10   \n",
       "16489                 South Africa          ZAF  2021  4.199460e+11   \n",
       "16490                       Zambia          ZMB  2021  2.120306e+10   \n",
       "16491                     Zimbabwe          ZWE  2021  2.621773e+10   \n",
       "\n",
       "       GDP_per_capita_USD  \n",
       "0                     NaN  \n",
       "1              162.726326  \n",
       "2               59.773234  \n",
       "3              107.930722  \n",
       "4                     NaN  \n",
       "...                   ...  \n",
       "16487         4986.582469  \n",
       "16488          690.759273  \n",
       "16489         6994.211654  \n",
       "16490         1120.630171  \n",
       "16491         1737.173977  \n",
       "\n",
       "[16492 rows x 5 columns]"
      ]
     },
     "execution_count": 10,
     "metadata": {},
     "output_type": "execute_result"
    }
   ],
   "source": [
    "GDP_df"
   ]
  },
  {
   "cell_type": "code",
   "execution_count": 11,
   "id": "d4691a7c",
   "metadata": {},
   "outputs": [
    {
     "data": {
      "text/plain": [
       "3374"
      ]
     },
     "execution_count": 11,
     "metadata": {},
     "output_type": "execute_result"
    }
   ],
   "source": [
    "GDP_df['GDP_USD'].isna().sum()"
   ]
  },
  {
   "cell_type": "code",
   "execution_count": 7,
   "id": "5ba45fc6",
   "metadata": {},
   "outputs": [
    {
     "data": {
      "text/plain": [
       "Country Code    0\n",
       "year            0\n",
       "GDP_USD         0\n",
       "dtype: int64"
      ]
     },
     "execution_count": 7,
     "metadata": {},
     "output_type": "execute_result"
    }
   ],
   "source": [
    "\n",
    "# Keeping only years 1970-2021\n",
    "gdp_df_2= GDP_df.loc[GDP_df[\"year\"]>=1970]\n",
    "\n",
    "#dropping columns for now\n",
    "gdp_df_2= gdp_df_2.drop(columns=['Country Name', 'GDP_per_capita_USD'])\n",
    "\n",
    "#dropping null values\n",
    "gdp_df_2= gdp_df_2.dropna()\n",
    "\n",
    "gdp_df_2.isna().sum()"
   ]
  },
  {
   "cell_type": "code",
   "execution_count": 8,
   "id": "6b31c339",
   "metadata": {},
   "outputs": [
    {
     "data": {
      "text/plain": [
       "array(['AFE', 'AFG', 'AFW', 'AND', 'ARB', 'ARG', 'AUS', 'AUT', 'BDI',\n",
       "       'BEL', 'BEN', 'BFA', 'BGD', 'BHS', 'BLZ', 'BMU', 'BOL', 'BRA',\n",
       "       'BRN', 'BWA', 'CAF', 'CAN', 'CHL', 'CHN', 'CIV', 'CMR', 'COD',\n",
       "       'COG', 'COL', 'CRI', 'CSS', 'CUB', 'DEU', 'DNK', 'DOM', 'DZA',\n",
       "       'EAP', 'EAR', 'EAS', 'ECS', 'ECU', 'EGY', 'EMU', 'ESP', 'EUU',\n",
       "       'FCS', 'FIN', 'FJI', 'FRA', 'GAB', 'GBR', 'GHA', 'GMB', 'GNB',\n",
       "       'GNQ', 'GRC', 'GRL', 'GTM', 'GUY', 'HIC', 'HKG', 'HND', 'HPC',\n",
       "       'HTI', 'IBD', 'IBT', 'IDA', 'IDB', 'IDN', 'IDX', 'IND', 'IRL',\n",
       "       'IRN', 'IRQ', 'ISL', 'ITA', 'JAM', 'JOR', 'JPN', 'KEN', 'KHM',\n",
       "       'KIR', 'KNA', 'KOR', 'KWT', 'LAC', 'LCN', 'LIC', 'LIE', 'LKA',\n",
       "       'LMC', 'LMY', 'LSO', 'LTE', 'LUX', 'MAR', 'MCO', 'MDG', 'MEA',\n",
       "       'MEX', 'MIC', 'MLI', 'MLT', 'MMR', 'MNA', 'MRT', 'MWI', 'MYS',\n",
       "       'NAC', 'NCL', 'NER', 'NGA', 'NIC', 'NLD', 'NOR', 'NPL', 'OED',\n",
       "       'OMN', 'OSS', 'PAK', 'PAN', 'PER', 'PHL', 'PNG', 'PRE', 'PRI',\n",
       "       'PRT', 'PRY', 'PST', 'PYF', 'QAT', 'RWA', 'SAS', 'SAU', 'SDN',\n",
       "       'SEN', 'SGP', 'SLE', 'SLV', 'SOM', 'SSA', 'SSF', 'SST', 'SUR',\n",
       "       'SWE', 'SWZ', 'SYC', 'SYR', 'TCD', 'TEA', 'TGO', 'THA', 'TLA',\n",
       "       'TMN', 'TSA', 'TSS', 'TTO', 'TUN', 'TUR', 'UGA', 'UMC', 'URY',\n",
       "       'USA', 'VCT', 'VEN', 'WLD', 'ZAF', 'ZMB', 'ZWE', 'NZL', 'PSS',\n",
       "       'SLB', 'BRB', 'ARE', 'CYP', 'TON', 'MUS', 'ATG', 'DMA', 'GRD',\n",
       "       'VUT', 'AGO', 'BGR', 'BHR', 'BTN', 'CHE', 'COM', 'CPV', 'LCA',\n",
       "       'LDC', 'MDV', 'NAM', 'ETH', 'MHL', 'MNG', 'MAC', 'WSM', 'FSM',\n",
       "       'ALB', 'LAO', 'DJI', 'VNM', 'ABW', 'GIN', 'ROU', 'TKM', 'UKR',\n",
       "       'ECA', 'LBN', 'RUS', 'TEC', 'TZA', 'ARM', 'AZE', 'BLR', 'CEB',\n",
       "       'CZE', 'GEO', 'KAZ', 'KGZ', 'LBY', 'MKD', 'POL', 'SVK', 'TJK',\n",
       "       'TUV', 'UZB', 'YEM', 'HUN', 'MOZ', 'ERI', 'BIH', 'PSE', 'EST',\n",
       "       'HRV', 'IMN', 'ISR', 'LTU', 'LVA', 'MDA', 'SRB', 'SVN', 'CHI',\n",
       "       'FRO', 'SMR', 'LBR', 'MNE', 'PLW', 'TLS', 'STP', 'TCA', 'ASM',\n",
       "       'GUM', 'MNP', 'VIR', 'CYM', 'SSD', 'XKX', 'NRU', 'CUW', 'MAF',\n",
       "       'SXM'], dtype=object)"
      ]
     },
     "execution_count": 8,
     "metadata": {},
     "output_type": "execute_result"
    }
   ],
   "source": [
    "gdp_df_2['Country Code'].unique()"
   ]
  },
  {
   "cell_type": "code",
   "execution_count": 9,
   "id": "d044d545",
   "metadata": {},
   "outputs": [
    {
     "data": {
      "text/plain": [
       "262"
      ]
     },
     "execution_count": 9,
     "metadata": {},
     "output_type": "execute_result"
    }
   ],
   "source": [
    "gdp_df_2['Country Code'].nunique()"
   ]
  },
  {
   "cell_type": "code",
   "execution_count": 10,
   "id": "0fcf5981",
   "metadata": {},
   "outputs": [],
   "source": [
    "gdp_df_2=gdp_df_2.rename(columns={'Country Code': 'country'})"
   ]
  },
  {
   "cell_type": "code",
   "execution_count": 16,
   "id": "9d241bd3",
   "metadata": {},
   "outputs": [
    {
     "data": {
      "text/html": [
       "<div>\n",
       "<style scoped>\n",
       "    .dataframe tbody tr th:only-of-type {\n",
       "        vertical-align: middle;\n",
       "    }\n",
       "\n",
       "    .dataframe tbody tr th {\n",
       "        vertical-align: top;\n",
       "    }\n",
       "\n",
       "    .dataframe thead th {\n",
       "        text-align: right;\n",
       "    }\n",
       "</style>\n",
       "<table border=\"1\" class=\"dataframe\">\n",
       "  <thead>\n",
       "    <tr style=\"text-align: right;\">\n",
       "      <th></th>\n",
       "      <th>country</th>\n",
       "      <th>year</th>\n",
       "      <th>GDP_USD</th>\n",
       "    </tr>\n",
       "  </thead>\n",
       "  <tbody>\n",
       "    <tr>\n",
       "      <th>2661</th>\n",
       "      <td>AFE</td>\n",
       "      <td>1970</td>\n",
       "      <td>4.486261e+10</td>\n",
       "    </tr>\n",
       "    <tr>\n",
       "      <th>2662</th>\n",
       "      <td>AFG</td>\n",
       "      <td>1970</td>\n",
       "      <td>1.748887e+09</td>\n",
       "    </tr>\n",
       "    <tr>\n",
       "      <th>2663</th>\n",
       "      <td>AFW</td>\n",
       "      <td>1970</td>\n",
       "      <td>2.350461e+10</td>\n",
       "    </tr>\n",
       "  </tbody>\n",
       "</table>\n",
       "</div>"
      ],
      "text/plain": [
       "     country  year       GDP_USD\n",
       "2661     AFE  1970  4.486261e+10\n",
       "2662     AFG  1970  1.748887e+09\n",
       "2663     AFW  1970  2.350461e+10"
      ]
     },
     "execution_count": 16,
     "metadata": {},
     "output_type": "execute_result"
    }
   ],
   "source": [
    "gdp_df_2.head(3)"
   ]
  },
  {
   "cell_type": "code",
   "execution_count": 12,
   "id": "3496fa60",
   "metadata": {},
   "outputs": [],
   "source": [
    "#these are the countries in our CO2 data\n",
    "countries= ['ABW', 'AFG', 'AGO', 'AIA', 'AIR', 'ALB', 'ANT', 'ARE', 'ARG',\n",
    "       'ARM', 'ATG', 'AUS', 'AUT', 'AZE', 'BDI', 'BEL', 'BEN', 'BFA',\n",
    "       'BGD', 'BGR', 'BHR', 'BHS', 'BIH', 'BLR', 'BLZ', 'BMU', 'BOL',\n",
    "       'BRA', 'BRB', 'BRN', 'BTN', 'BWA', 'CAF', 'CAN', 'CHE', 'CHL',\n",
    "       'CHN', 'CIV', 'CMR', 'COD', 'COG', 'COK', 'COL', 'COM', 'CPV',\n",
    "       'CRI', 'CUB', 'CYM', 'CYP', 'CZE', 'DEU', 'DJI', 'DMA', 'DNK',\n",
    "       'DOM', 'DZA', 'ECU', 'EGY', 'ERI', 'ESH', 'ESP', 'EST', 'ETH',\n",
    "       'FIN', 'FJI', 'FLK', 'FRA', 'FRO', 'GAB', 'GBR', 'GEO', 'GHA',\n",
    "       'GIB', 'GIN', 'GLP', 'GMB', 'GNB', 'GNQ', 'GRC', 'GRD', 'GRL',\n",
    "       'GTM', 'GUF', 'GUY', 'HKG', 'HND', 'HRV', 'HTI', 'HUN', 'IDN',\n",
    "       'IND', 'IRL', 'IRN', 'IRQ', 'ISL', 'ISR', 'ITA', 'JAM', 'JOR',\n",
    "       'JPN', 'KAZ', 'KEN', 'KGZ', 'KHM', 'KIR', 'KNA', 'KOR', 'KWT',\n",
    "       'LAO', 'LBN', 'LBR', 'LBY', 'LCA', 'LKA', 'LSO', 'LTU', 'LUX',\n",
    "       'LVA', 'MAC', 'MAR', 'MDA', 'MDG', 'MDV', 'MEX', 'MKD', 'MLI',\n",
    "       'MLT', 'MMR', 'MNG', 'MOZ', 'MRT', 'MTQ', 'MUS', 'MWI', 'MYS',\n",
    "       'NAM', 'NCL', 'NER', 'NGA', 'NIC', 'NLD', 'NOR', 'NPL', 'NZL',\n",
    "       'OMN', 'PAK', 'PAN', 'PER', 'PHL', 'PLW', 'PNG', 'POL', 'PRI',\n",
    "       'PRK', 'PRT', 'PRY', 'PYF', 'QAT', 'REU', 'ROU', 'RUS', 'RWA',\n",
    "       'SAU', 'SCG', 'SDN', 'SEA', 'SEN', 'SGP', 'SHN', 'SLB', 'SLE',\n",
    "       'SLV', 'SOM', 'SPM', 'STP', 'SUR', 'SVK', 'SVN', 'SWE', 'SWZ',\n",
    "       'SYC', 'SYR', 'TCA', 'TCD', 'TGO', 'THA', 'TJK', 'TKM', 'TLS',\n",
    "       'TON', 'TTO', 'TUN', 'TUR', 'TWN', 'TZA', 'UGA', 'UKR', 'URY',\n",
    "       'USA', 'UZB', 'VCT', 'VEN', 'VGB', 'VNM', 'VUT', 'WSM', 'YEM',\n",
    "       'ZAF', 'ZMB', 'ZWE']"
   ]
  },
  {
   "cell_type": "code",
   "execution_count": 13,
   "id": "02fd35a5",
   "metadata": {},
   "outputs": [
    {
     "data": {
      "text/plain": [
       "210"
      ]
     },
     "execution_count": 13,
     "metadata": {},
     "output_type": "execute_result"
    }
   ],
   "source": [
    "len(countries)"
   ]
  },
  {
   "cell_type": "code",
   "execution_count": 14,
   "id": "9efc8e8e",
   "metadata": {
    "scrolled": true
   },
   "outputs": [],
   "source": [
    "df=[]\n",
    "for i in countries:\n",
    "    if i in gdp_df_2['country'].values:\n",
    "        df.append(i)"
   ]
  },
  {
   "cell_type": "code",
   "execution_count": 15,
   "id": "8ec1b893",
   "metadata": {},
   "outputs": [
    {
     "data": {
      "text/plain": [
       "192"
      ]
     },
     "execution_count": 15,
     "metadata": {},
     "output_type": "execute_result"
    }
   ],
   "source": [
    "#We are missing 18 countries from  the co2 dataset\n",
    "len(df)"
   ]
  },
  {
   "cell_type": "markdown",
   "id": "7a81f867",
   "metadata": {},
   "source": [
    "#### HERE IS A LIST WITH THE COUNTRIES TO BE REMOVED FROM CO2 DATA"
   ]
  },
  {
   "cell_type": "code",
   "execution_count": 17,
   "id": "26ab84b6",
   "metadata": {},
   "outputs": [],
   "source": [
    "list_of_missing_countries=[]\n",
    "for i in countries:\n",
    "    if i not  in gdp_df_2['country'].values:\n",
    "        list_of_missing_countries.append(i)"
   ]
  },
  {
   "cell_type": "code",
   "execution_count": 18,
   "id": "789644a9",
   "metadata": {},
   "outputs": [
    {
     "data": {
      "text/plain": [
       "['AIA',\n",
       " 'AIR',\n",
       " 'ANT',\n",
       " 'COK',\n",
       " 'ESH',\n",
       " 'FLK',\n",
       " 'GIB',\n",
       " 'GLP',\n",
       " 'GUF',\n",
       " 'MTQ',\n",
       " 'PRK',\n",
       " 'REU',\n",
       " 'SCG',\n",
       " 'SEA',\n",
       " 'SHN',\n",
       " 'SPM',\n",
       " 'TWN',\n",
       " 'VGB']"
      ]
     },
     "execution_count": 18,
     "metadata": {},
     "output_type": "execute_result"
    }
   ],
   "source": [
    "list_of_missing_countries"
   ]
  },
  {
   "cell_type": "code",
   "execution_count": null,
   "id": "5598da05",
   "metadata": {},
   "outputs": [],
   "source": []
  }
 ],
 "metadata": {
  "kernelspec": {
   "display_name": "Python 3 (ipykernel)",
   "language": "python",
   "name": "python3"
  },
  "language_info": {
   "codemirror_mode": {
    "name": "ipython",
    "version": 3
   },
   "file_extension": ".py",
   "mimetype": "text/x-python",
   "name": "python",
   "nbconvert_exporter": "python",
   "pygments_lexer": "ipython3",
   "version": "3.10.6"
  },
  "toc": {
   "base_numbering": 1,
   "nav_menu": {},
   "number_sections": true,
   "sideBar": true,
   "skip_h1_title": false,
   "title_cell": "Table of Contents",
   "title_sidebar": "Contents",
   "toc_cell": false,
   "toc_position": {},
   "toc_section_display": true,
   "toc_window_display": false
  }
 },
 "nbformat": 4,
 "nbformat_minor": 5
}
