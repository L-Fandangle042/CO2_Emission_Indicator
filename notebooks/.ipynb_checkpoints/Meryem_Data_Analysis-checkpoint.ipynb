{
 "cells": [
  {
   "cell_type": "markdown",
   "id": "d7ab9b59",
   "metadata": {},
   "source": [
    "# Data Exploration"
   ]
  },
  {
   "cell_type": "code",
   "execution_count": 1,
   "id": "2e230ea2",
   "metadata": {},
   "outputs": [],
   "source": [
    "import pandas as pd\n",
    "import numpy as np\n",
    "import plotly.express as px\n",
    "import matplotlib.pyplot as plt\n",
    "import seaborn as sns\n",
    "from sklearn.linear_model import LinearRegression"
   ]
  },
  {
   "cell_type": "markdown",
   "id": "5f448636",
   "metadata": {},
   "source": [
    "## CO2 Total by Country 1970-2021\n"
   ]
  },
  {
   "cell_type": "markdown",
   "id": "ba061d59-f1fb-4087-8a44-2c41272d2273",
   "metadata": {},
   "source": [
    "### Raw Data / Pathway"
   ]
  },
  {
   "cell_type": "code",
   "execution_count": 2,
   "id": "4042cf2a",
   "metadata": {},
   "outputs": [],
   "source": [
    "CO2_yearly_path = \"../raw_data/CO2_YEARLY_DATA_1970-2021.xlsx\""
   ]
  },
  {
   "cell_type": "markdown",
   "id": "09ea4112",
   "metadata": {},
   "source": [
    "As the data is very clean already this looks like a good framework to use for the other datasets which are very similar to this one."
   ]
  },
  {
   "cell_type": "code",
   "execution_count": null,
   "id": "1bdd36d1",
   "metadata": {},
   "outputs": [],
   "source": [
    "# Removed the first rows that have no relevance and reset the index.\n",
    "co2_year = pd.read_excel(CO2_yearly_path, sheet_name=\"TOTALS BY COUNTRY\", skiprows=[0, 1, 2, 3, 4, 5, 6, 7, 8], header=1) \n",
    "co2_year.head()\n"
   ]
  },
  {
   "cell_type": "code",
   "execution_count": null,
   "id": "3249ebad-3e86-45a1-8a05-fb1388945f38",
   "metadata": {},
   "outputs": [],
   "source": [
    "# Drop irrelevant columns\n",
    "co2_year_df = co2_year.drop(['IPCC_annex', 'IPCC_annex', 'Name', 'C_group_IM24_sh', 'Substance'], axis=1)\n",
    "\n",
    "# Transform dataframe for easier use in graphs and time-series and rename the columns so as to be better recognisable.\n",
    "co2_year_df= co2_year_df.melt(id_vars=['Country_code_A3']).rename(columns={'Country_code_A3':'country', 'variable':'year', 'value':'CO2'})\n",
    "\n",
    "# Remove prefix for year\n",
    "co2_year_df['year'] = co2_year_df['year'].str.removeprefix(\"Y_\")\n",
    "\n",
    "# Reset the year column as data type integer.\n",
    "co2_year_df = co2_year_df.astype({\"year\":\"int\"}) \n",
    "\n",
    "co2_year_df"
   ]
  },
  {
   "cell_type": "code",
   "execution_count": null,
   "id": "dbc8b1ca-f42a-4167-a886-bfeba7d07a3e",
   "metadata": {},
   "outputs": [],
   "source": [
    "co2_year_df.dtypes"
   ]
  },
  {
   "cell_type": "code",
   "execution_count": null,
   "id": "723c720a-f32f-426c-9390-71e1116eb7cf",
   "metadata": {},
   "outputs": [],
   "source": [
    "# Format df so as to better demonstrate the changes in previous cell.\n",
    "co2_year_df = co2_year_df.groupby([\"country\", \"year\"]).sum().reset_index()\n",
    "co2_year_df\n"
   ]
  },
  {
   "cell_type": "code",
   "execution_count": null,
   "id": "eb50ef1a-2707-442f-be45-59f1deb9b4cf",
   "metadata": {},
   "outputs": [],
   "source": [
    "# Plot the newly cleaned/filtered dataset\n",
    "fig = px.line(co2_year_df, x=\"year\", y=\"CO2\", color='country', width=1200, height=800)\n",
    "fig.show()"
   ]
  },
  {
   "cell_type": "markdown",
   "id": "f4dd1ce2",
   "metadata": {},
   "source": [
    "## Meryem - Data Analysis"
   ]
  },
  {
   "cell_type": "markdown",
   "id": "2c1bc145",
   "metadata": {},
   "source": [
    "## EDA"
   ]
  },
  {
   "cell_type": "code",
   "execution_count": null,
   "id": "c5ae90ab",
   "metadata": {},
   "outputs": [],
   "source": [
    "plt.figure(figsize=(10,6))\n",
    "sns.histplot(x=co2_year_df['CO2'] )\n",
    "plt.ylim(top=900)"
   ]
  },
  {
   "cell_type": "code",
   "execution_count": null,
   "id": "2ccc1fca",
   "metadata": {},
   "outputs": [],
   "source": [
    "sns.boxplot(x=co2_year_df['CO2'])"
   ]
  },
  {
   "cell_type": "code",
   "execution_count": null,
   "id": "fefacc30",
   "metadata": {},
   "outputs": [],
   "source": [
    "Total_mean=co2_year_df.groupby(['country'])['CO2'].mean().sort_values(ascending=False)[0:100].reset_index()\n",
    "top_10_countries_mean=co2_year_df.groupby(['country'])['CO2'].mean().sort_values(ascending=False)[0:10].reset_index()\n",
    "year_mean_10_total=co2_year_df.groupby(['year'])['CO2'].mean().sort_values(ascending=False)[0:10].reset_index()"
   ]
  },
  {
   "cell_type": "code",
   "execution_count": null,
   "id": "ae439716",
   "metadata": {},
   "outputs": [],
   "source": [
    "fig1= px.pie(top_10_countries_mean,values='CO2',names='country',title= \"Top 10 Countries by Total Emission\")\n",
    "fig1.show()"
   ]
  },
  {
   "cell_type": "code",
   "execution_count": null,
   "id": "3a76b772",
   "metadata": {},
   "outputs": [],
   "source": [
    "fig2= px.pie(year_mean_10_total,values='CO2',names='year',title= \"Top 10 Years of Highest Total Emission\")\n",
    "fig2.show()"
   ]
  },
  {
   "cell_type": "code",
   "execution_count": null,
   "id": "c74a3179",
   "metadata": {},
   "outputs": [],
   "source": [
    "def chlorepath(data,color):\n",
    "    fig=px.choropleth(data, locations=\"country\",\n",
    "                    color= color, \n",
    "                    hover_name=\"country\",\n",
    "                    color_continuous_scale=px.colors.sequential.Plasma)\n",
    "    fig.show()"
   ]
  },
  {
   "cell_type": "code",
   "execution_count": null,
   "id": "b84906ab",
   "metadata": {},
   "outputs": [],
   "source": [
    "fig3=chlorepath(Total_mean,'CO2')"
   ]
  },
  {
   "cell_type": "markdown",
   "id": "9f7e984e",
   "metadata": {},
   "source": [
    "## Trend Analysis\n"
   ]
  },
  {
   "cell_type": "code",
   "execution_count": null,
   "id": "01cf7d3c",
   "metadata": {},
   "outputs": [],
   "source": [
    "countries= co2_year_df['country'].unique()"
   ]
  },
  {
   "cell_type": "code",
   "execution_count": null,
   "id": "973b5514",
   "metadata": {},
   "outputs": [],
   "source": [
    "for country in countries:\n",
    "    new_df = co2_year_df[co2_year_df['country'] == country]\n",
    "    plt.plot(new_df['year'], new_df['CO2'])\n",
    "    plt.xlabel('Year')\n",
    "    plt.ylabel('CO2 Emissions')\n",
    "    plt.title('CO2 Emissions Trend for ' + country)\n",
    "    plt.show()"
   ]
  },
  {
   "cell_type": "code",
   "execution_count": null,
   "id": "5e472c31",
   "metadata": {},
   "outputs": [],
   "source": [
    "from statsmodels.tsa.seasonal import seasonal_decompose\n"
   ]
  },
  {
   "cell_type": "code",
   "execution_count": null,
   "id": "704d0892",
   "metadata": {},
   "outputs": [],
   "source": [
    "# Additive Decomposition (y = Trend + Seasonal + Residuals)\n",
    "#result_add = seasonal_decompose(co2_yea['value'], model='additive')\n",
    "#result_add.plot();"
   ]
  },
  {
   "cell_type": "code",
   "execution_count": null,
   "id": "70ee88b2",
   "metadata": {},
   "outputs": [],
   "source": [
    "#multiplicative"
   ]
  },
  {
   "cell_type": "code",
   "execution_count": null,
   "id": "376c24c8",
   "metadata": {},
   "outputs": [],
   "source": [
    "co2_year_df"
   ]
  },
  {
   "cell_type": "code",
   "execution_count": null,
   "id": "882628a0",
   "metadata": {},
   "outputs": [],
   "source": [
    "#movingaverage basemodel 10years pandas \n",
    "co2_year_df['year'] = pd.to_datetime(co2_year_df['year'], format='%Y')\n",
    "\n",
    "# Set the 'year' column as the index\n",
    "co2_year_df.set_index('year', inplace=True)\n",
    "\n",
    "# Calculate the 10-year moving average and add it as a new column\n",
    "co2_year_df['MA_10'] = co2_year_df['CO2'].rolling(10).mean()\n",
    "\n",
    "# Create a line plot of the original CO2 data and the moving average\n",
    "plt.plot(co2_year_df.index, co2_year_df['CO2'], label='CO2 Emissions')\n",
    "plt.plot(co2_year_df.index, co2_year_df['MA_10'], label='10-Year Moving Average')\n",
    "plt.xlabel('Year')\n",
    "plt.ylabel('CO2 Emissions')\n",
    "plt.title('CO2 Emissions Trend with 10-Year Moving Average')\n",
    "plt.legend()\n",
    "plt.show()"
   ]
  },
  {
   "cell_type": "code",
   "execution_count": null,
   "id": "05bfcfae",
   "metadata": {},
   "outputs": [],
   "source": [
    "#plot actual versus predictions"
   ]
  },
  {
   "cell_type": "code",
   "execution_count": null,
   "id": "235afe0a",
   "metadata": {},
   "outputs": [],
   "source": [
    "#mape per country or mdape"
   ]
  },
  {
   "cell_type": "code",
   "execution_count": null,
   "id": "6ebc7e1c",
   "metadata": {},
   "outputs": [],
   "source": []
  }
 ],
 "metadata": {
  "kernelspec": {
   "display_name": "Python 3 (ipykernel)",
   "language": "python",
   "name": "python3"
  },
  "language_info": {
   "codemirror_mode": {
    "name": "ipython",
    "version": 3
   },
   "file_extension": ".py",
   "mimetype": "text/x-python",
   "name": "python",
   "nbconvert_exporter": "python",
   "pygments_lexer": "ipython3",
   "version": "3.10.6"
  },
  "toc": {
   "base_numbering": 1,
   "nav_menu": {},
   "number_sections": true,
   "sideBar": true,
   "skip_h1_title": false,
   "title_cell": "Table of Contents",
   "title_sidebar": "Contents",
   "toc_cell": false,
   "toc_position": {},
   "toc_section_display": true,
   "toc_window_display": false
  },
  "vscode": {
   "interpreter": {
    "hash": "402e7244a9a98e8871cf0766a98a2025cdf2b5a9800cab2605fc9370e1aab459"
   }
  }
 },
 "nbformat": 4,
 "nbformat_minor": 5
}
