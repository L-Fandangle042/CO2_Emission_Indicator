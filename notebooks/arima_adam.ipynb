{
 "cells": [
  {
   "cell_type": "markdown",
   "id": "d7ab9b59",
   "metadata": {},
   "source": [
    "# Data Exploration"
   ]
  },
  {
   "cell_type": "code",
   "execution_count": 1,
   "id": "2e230ea2",
   "metadata": {},
   "outputs": [],
   "source": [
    "import pandas as pd\n",
    "import numpy as np\n",
    "import plotly.express as px\n",
    "from ipywidgets import interact, widgets\n",
    "import matplotlib.pyplot as plt\n",
    "import seaborn as sns"
   ]
  },
  {
   "cell_type": "markdown",
   "id": "5f448636",
   "metadata": {},
   "source": [
    "## CO2 Total by Country (Yearly)"
   ]
  },
  {
   "cell_type": "markdown",
   "id": "ba061d59-f1fb-4087-8a44-2c41272d2273",
   "metadata": {},
   "source": [
    "### Raw Data / Pathway"
   ]
  },
  {
   "cell_type": "code",
   "execution_count": 2,
   "id": "4042cf2a",
   "metadata": {},
   "outputs": [],
   "source": [
    "CO2_yearly_path = \"../raw_data/CO2_YEARLY_DATA_1970-2021.xlsx\""
   ]
  },
  {
   "cell_type": "markdown",
   "id": "09ea4112",
   "metadata": {},
   "source": [
    "As the data is very clean already this looks like a good framework to use for the other datasets which are very similar to this one."
   ]
  },
  {
   "cell_type": "code",
   "execution_count": 3,
   "id": "1bdd36d1",
   "metadata": {},
   "outputs": [
    {
     "data": {
      "text/html": [
       "<div>\n",
       "<style scoped>\n",
       "    .dataframe tbody tr th:only-of-type {\n",
       "        vertical-align: middle;\n",
       "    }\n",
       "\n",
       "    .dataframe tbody tr th {\n",
       "        vertical-align: top;\n",
       "    }\n",
       "\n",
       "    .dataframe thead th {\n",
       "        text-align: right;\n",
       "    }\n",
       "</style>\n",
       "<table border=\"1\" class=\"dataframe\">\n",
       "  <thead>\n",
       "    <tr style=\"text-align: right;\">\n",
       "      <th></th>\n",
       "      <th>IPCC_annex</th>\n",
       "      <th>C_group_IM24_sh</th>\n",
       "      <th>Country_code_A3</th>\n",
       "      <th>Name</th>\n",
       "      <th>Substance</th>\n",
       "      <th>Y_1970</th>\n",
       "      <th>Y_1971</th>\n",
       "      <th>Y_1972</th>\n",
       "      <th>Y_1973</th>\n",
       "      <th>Y_1974</th>\n",
       "      <th>...</th>\n",
       "      <th>Y_2012</th>\n",
       "      <th>Y_2013</th>\n",
       "      <th>Y_2014</th>\n",
       "      <th>Y_2015</th>\n",
       "      <th>Y_2016</th>\n",
       "      <th>Y_2017</th>\n",
       "      <th>Y_2018</th>\n",
       "      <th>Y_2019</th>\n",
       "      <th>Y_2020</th>\n",
       "      <th>Y_2021</th>\n",
       "    </tr>\n",
       "  </thead>\n",
       "  <tbody>\n",
       "    <tr>\n",
       "      <th>0</th>\n",
       "      <td>Non-Annex_I</td>\n",
       "      <td>Rest Central America</td>\n",
       "      <td>ABW</td>\n",
       "      <td>Aruba</td>\n",
       "      <td>CO2</td>\n",
       "      <td>95.065424</td>\n",
       "      <td>94.503709</td>\n",
       "      <td>105.847814</td>\n",
       "      <td>109.863856</td>\n",
       "      <td>99.977179</td>\n",
       "      <td>...</td>\n",
       "      <td>1637.822831</td>\n",
       "      <td>1605.689731</td>\n",
       "      <td>1633.584420</td>\n",
       "      <td>1626.234050</td>\n",
       "      <td>1597.398255</td>\n",
       "      <td>1335.792882</td>\n",
       "      <td>1366.614574</td>\n",
       "      <td>1404.705123</td>\n",
       "      <td>1166.018409</td>\n",
       "      <td>1295.818804</td>\n",
       "    </tr>\n",
       "    <tr>\n",
       "      <th>1</th>\n",
       "      <td>Non-Annex_I</td>\n",
       "      <td>India +</td>\n",
       "      <td>AFG</td>\n",
       "      <td>Afghanistan</td>\n",
       "      <td>CO2</td>\n",
       "      <td>3343.054709</td>\n",
       "      <td>3318.411036</td>\n",
       "      <td>3545.865063</td>\n",
       "      <td>3592.563616</td>\n",
       "      <td>4075.638761</td>\n",
       "      <td>...</td>\n",
       "      <td>14462.288815</td>\n",
       "      <td>12796.268484</td>\n",
       "      <td>12478.108782</td>\n",
       "      <td>12551.087669</td>\n",
       "      <td>11760.799383</td>\n",
       "      <td>12117.693742</td>\n",
       "      <td>12736.811832</td>\n",
       "      <td>12215.717086</td>\n",
       "      <td>12525.011330</td>\n",
       "      <td>12553.576369</td>\n",
       "    </tr>\n",
       "  </tbody>\n",
       "</table>\n",
       "<p>2 rows × 57 columns</p>\n",
       "</div>"
      ],
      "text/plain": [
       "    IPCC_annex       C_group_IM24_sh Country_code_A3         Name Substance  \\\n",
       "0  Non-Annex_I  Rest Central America             ABW        Aruba       CO2   \n",
       "1  Non-Annex_I               India +             AFG  Afghanistan       CO2   \n",
       "\n",
       "        Y_1970       Y_1971       Y_1972       Y_1973       Y_1974  ...  \\\n",
       "0    95.065424    94.503709   105.847814   109.863856    99.977179  ...   \n",
       "1  3343.054709  3318.411036  3545.865063  3592.563616  4075.638761  ...   \n",
       "\n",
       "         Y_2012        Y_2013        Y_2014        Y_2015        Y_2016  \\\n",
       "0   1637.822831   1605.689731   1633.584420   1626.234050   1597.398255   \n",
       "1  14462.288815  12796.268484  12478.108782  12551.087669  11760.799383   \n",
       "\n",
       "         Y_2017        Y_2018        Y_2019        Y_2020        Y_2021  \n",
       "0   1335.792882   1366.614574   1404.705123   1166.018409   1295.818804  \n",
       "1  12117.693742  12736.811832  12215.717086  12525.011330  12553.576369  \n",
       "\n",
       "[2 rows x 57 columns]"
      ]
     },
     "execution_count": 3,
     "metadata": {},
     "output_type": "execute_result"
    }
   ],
   "source": [
    "# Removed the first rows that have no relevance and reset the index.\n",
    "df_year = pd.read_excel(CO2_yearly_path, sheet_name=\"TOTALS BY COUNTRY\", skiprows=[0, 1, 2, 3, 4, 5, 6, 7, 8], header=1) \n",
    "df_year.head(2)"
   ]
  },
  {
   "cell_type": "code",
   "execution_count": 4,
   "id": "2ce6f943",
   "metadata": {},
   "outputs": [],
   "source": [
    "df_year_fixed = df_year.drop(['IPCC_annex', 'IPCC_annex', 'Name', 'C_group_IM24_sh', 'Substance'], axis=1)\n",
    "df_year_fixed.columns = [c.removeprefix(\"Y_\") for c in df_year_fixed.columns]"
   ]
  },
  {
   "cell_type": "code",
   "execution_count": 5,
   "id": "25c691fc",
   "metadata": {},
   "outputs": [],
   "source": [
    "countries_of_interest = ['AUS', 'BRA', 'CAN', 'CHN', 'DEU', 'GBR', 'FRA', 'IND', 'ISR', 'JPN', 'NGA', 'USA', 'ZWE']"
   ]
  },
  {
   "cell_type": "code",
   "execution_count": 6,
   "id": "673c6e1e",
   "metadata": {},
   "outputs": [],
   "source": [
    "df_year_filtered = df_year_fixed[df_year_fixed['Country_code_A3'].isin(countries_of_interest)].head(len(countries_of_interest))\n",
    "df_year_filtered = df_year_filtered.reset_index(drop=True)"
   ]
  },
  {
   "cell_type": "code",
   "execution_count": 7,
   "id": "9e39193e",
   "metadata": {},
   "outputs": [],
   "source": [
    "df = pd.DataFrame(np.array(df_year_filtered.columns[2:], dtype='int16'), columns=['year'])"
   ]
  },
  {
   "cell_type": "code",
   "execution_count": 8,
   "id": "ef727d16",
   "metadata": {},
   "outputs": [
    {
     "data": {
      "text/html": [
       "<div>\n",
       "<style scoped>\n",
       "    .dataframe tbody tr th:only-of-type {\n",
       "        vertical-align: middle;\n",
       "    }\n",
       "\n",
       "    .dataframe tbody tr th {\n",
       "        vertical-align: top;\n",
       "    }\n",
       "\n",
       "    .dataframe thead th {\n",
       "        text-align: right;\n",
       "    }\n",
       "</style>\n",
       "<table border=\"1\" class=\"dataframe\">\n",
       "  <thead>\n",
       "    <tr style=\"text-align: right;\">\n",
       "      <th></th>\n",
       "      <th>year</th>\n",
       "      <th>AUS</th>\n",
       "      <th>BRA</th>\n",
       "      <th>CAN</th>\n",
       "      <th>CHN</th>\n",
       "      <th>DEU</th>\n",
       "      <th>FRA</th>\n",
       "      <th>GBR</th>\n",
       "      <th>IND</th>\n",
       "      <th>ISR</th>\n",
       "      <th>JPN</th>\n",
       "      <th>NGA</th>\n",
       "      <th>USA</th>\n",
       "      <th>ZWE</th>\n",
       "    </tr>\n",
       "  </thead>\n",
       "  <tbody>\n",
       "    <tr>\n",
       "      <th>0</th>\n",
       "      <td>1971</td>\n",
       "      <td>212598.582320</td>\n",
       "      <td>346095.812829</td>\n",
       "      <td>421581.864558</td>\n",
       "      <td>1.611013e+06</td>\n",
       "      <td>1.091619e+06</td>\n",
       "      <td>525966.793044</td>\n",
       "      <td>679246.488804</td>\n",
       "      <td>760433.425800</td>\n",
       "      <td>15122.959675</td>\n",
       "      <td>871222.711232</td>\n",
       "      <td>174956.835911</td>\n",
       "      <td>4.821343e+06</td>\n",
       "      <td>29673.548342</td>\n",
       "    </tr>\n",
       "    <tr>\n",
       "      <th>1</th>\n",
       "      <td>1972</td>\n",
       "      <td>217361.948111</td>\n",
       "      <td>361043.688156</td>\n",
       "      <td>439879.240264</td>\n",
       "      <td>1.688336e+06</td>\n",
       "      <td>1.118686e+06</td>\n",
       "      <td>544331.953747</td>\n",
       "      <td>657224.914085</td>\n",
       "      <td>773179.176449</td>\n",
       "      <td>15977.416519</td>\n",
       "      <td>917322.377453</td>\n",
       "      <td>189459.501847</td>\n",
       "      <td>5.077198e+06</td>\n",
       "      <td>29766.298063</td>\n",
       "    </tr>\n",
       "  </tbody>\n",
       "</table>\n",
       "</div>"
      ],
      "text/plain": [
       "   year            AUS            BRA            CAN           CHN  \\\n",
       "0  1971  212598.582320  346095.812829  421581.864558  1.611013e+06   \n",
       "1  1972  217361.948111  361043.688156  439879.240264  1.688336e+06   \n",
       "\n",
       "            DEU            FRA            GBR            IND           ISR  \\\n",
       "0  1.091619e+06  525966.793044  679246.488804  760433.425800  15122.959675   \n",
       "1  1.118686e+06  544331.953747  657224.914085  773179.176449  15977.416519   \n",
       "\n",
       "             JPN            NGA           USA           ZWE  \n",
       "0  871222.711232  174956.835911  4.821343e+06  29673.548342  \n",
       "1  917322.377453  189459.501847  5.077198e+06  29766.298063  "
      ]
     },
     "execution_count": 8,
     "metadata": {},
     "output_type": "execute_result"
    }
   ],
   "source": [
    "for i in range(df_year_filtered.shape[0]):\n",
    "    name: str = str(df_year_filtered.at[i, 'Country_code_A3'])\n",
    "    df[name] = df_year_filtered.iloc[i, 2:].values.tolist()\n",
    "df.head(2)"
   ]
  },
  {
   "cell_type": "code",
   "execution_count": 9,
   "id": "58b38e3b",
   "metadata": {},
   "outputs": [
    {
     "data": {
      "image/png": "[encoded data removed]",
      "text/plain": [
       "<Figure size 640x480 with 1 Axes>"
      ]
     },
     "metadata": {},
     "output_type": "display_data"
    }
   ],
   "source": [
    "sns.lineplot(df[df.columns[1:]]);"
   ]
  },
  {
   "cell_type": "code",
   "execution_count": 10,
   "id": "0ec43ef8",
   "metadata": {},
   "outputs": [
    {
     "data": {
      "application/vnd.jupyter.widget-view+json": {
       "model_id": "04b45502bdcd4ec5886bfaa611f09784",
       "version_major": 2,
       "version_minor": 0
      },
      "text/plain": [
       "interactive(children=(Dropdown(description='country', options=('AUS', 'BRA', 'CAN', 'CHN', 'DEU', 'FRA', 'GBR'…"
      ]
     },
     "metadata": {},
     "output_type": "display_data"
    }
   ],
   "source": [
    "@interact\n",
    "def by_country(country=df.columns[1:]):\n",
    "    sns.regplot(data=df, x='year', y=country, ci=95)\n",
    "    plt.title(country)\n",
    "    plt.show()"
   ]
  },
  {
   "cell_type": "markdown",
   "id": "59030825",
   "metadata": {},
   "source": [
    "## ARIMA"
   ]
  },
  {
   "cell_type": "code",
   "execution_count": 11,
   "id": "902ac9bd",
   "metadata": {},
   "outputs": [],
   "source": [
    "arima = df.copy()"
   ]
  },
  {
   "cell_type": "code",
   "execution_count": 12,
   "id": "e66ec4cb",
   "metadata": {},
   "outputs": [],
   "source": [
    "arima['year'] = pd.to_datetime(arima['year'], format='%Y')\n",
    "arima.set_index('year', inplace=True)"
   ]
  },
  {
   "cell_type": "code",
   "execution_count": 13,
   "id": "aef96a04",
   "metadata": {},
   "outputs": [
    {
     "data": {
      "text/html": [
       "<div>\n",
       "<style scoped>\n",
       "    .dataframe tbody tr th:only-of-type {\n",
       "        vertical-align: middle;\n",
       "    }\n",
       "\n",
       "    .dataframe tbody tr th {\n",
       "        vertical-align: top;\n",
       "    }\n",
       "\n",
       "    .dataframe thead th {\n",
       "        text-align: right;\n",
       "    }\n",
       "</style>\n",
       "<table border=\"1\" class=\"dataframe\">\n",
       "  <thead>\n",
       "    <tr style=\"text-align: right;\">\n",
       "      <th></th>\n",
       "      <th>AUS</th>\n",
       "      <th>BRA</th>\n",
       "      <th>CAN</th>\n",
       "      <th>CHN</th>\n",
       "      <th>DEU</th>\n",
       "      <th>FRA</th>\n",
       "      <th>GBR</th>\n",
       "      <th>IND</th>\n",
       "      <th>ISR</th>\n",
       "      <th>JPN</th>\n",
       "      <th>NGA</th>\n",
       "      <th>USA</th>\n",
       "      <th>ZWE</th>\n",
       "    </tr>\n",
       "    <tr>\n",
       "      <th>year</th>\n",
       "      <th></th>\n",
       "      <th></th>\n",
       "      <th></th>\n",
       "      <th></th>\n",
       "      <th></th>\n",
       "      <th></th>\n",
       "      <th></th>\n",
       "      <th></th>\n",
       "      <th></th>\n",
       "      <th></th>\n",
       "      <th></th>\n",
       "      <th></th>\n",
       "      <th></th>\n",
       "    </tr>\n",
       "  </thead>\n",
       "  <tbody>\n",
       "    <tr>\n",
       "      <th>1971-01-01</th>\n",
       "      <td>0.000000</td>\n",
       "      <td>0.000000</td>\n",
       "      <td>0.000000</td>\n",
       "      <td>0.000000</td>\n",
       "      <td>0.750738</td>\n",
       "      <td>0.759187</td>\n",
       "      <td>0.967389</td>\n",
       "      <td>0.000000</td>\n",
       "      <td>0.000000</td>\n",
       "      <td>0.000000</td>\n",
       "      <td>0.000000</td>\n",
       "      <td>0.000000</td>\n",
       "      <td>0.000000</td>\n",
       "    </tr>\n",
       "    <tr>\n",
       "      <th>1972-01-01</th>\n",
       "      <td>0.017078</td>\n",
       "      <td>0.015237</td>\n",
       "      <td>0.068340</td>\n",
       "      <td>0.006743</td>\n",
       "      <td>0.808560</td>\n",
       "      <td>0.838191</td>\n",
       "      <td>0.898500</td>\n",
       "      <td>0.004299</td>\n",
       "      <td>0.013550</td>\n",
       "      <td>0.090905</td>\n",
       "      <td>0.033249</td>\n",
       "      <td>0.160400</td>\n",
       "      <td>0.004873</td>\n",
       "    </tr>\n",
       "    <tr>\n",
       "      <th>1973-01-01</th>\n",
       "      <td>0.060239</td>\n",
       "      <td>0.035418</td>\n",
       "      <td>0.143688</td>\n",
       "      <td>0.011641</td>\n",
       "      <td>0.912670</td>\n",
       "      <td>1.000000</td>\n",
       "      <td>1.000000</td>\n",
       "      <td>0.009628</td>\n",
       "      <td>0.030453</td>\n",
       "      <td>0.316099</td>\n",
       "      <td>0.068776</td>\n",
       "      <td>0.280912</td>\n",
       "      <td>0.039725</td>\n",
       "    </tr>\n",
       "  </tbody>\n",
       "</table>\n",
       "</div>"
      ],
      "text/plain": [
       "                 AUS       BRA       CAN       CHN       DEU       FRA  \\\n",
       "year                                                                     \n",
       "1971-01-01  0.000000  0.000000  0.000000  0.000000  0.750738  0.759187   \n",
       "1972-01-01  0.017078  0.015237  0.068340  0.006743  0.808560  0.838191   \n",
       "1973-01-01  0.060239  0.035418  0.143688  0.011641  0.912670  1.000000   \n",
       "\n",
       "                 GBR       IND       ISR       JPN       NGA       USA  \\\n",
       "year                                                                     \n",
       "1971-01-01  0.967389  0.000000  0.000000  0.000000  0.000000  0.000000   \n",
       "1972-01-01  0.898500  0.004299  0.013550  0.090905  0.033249  0.160400   \n",
       "1973-01-01  1.000000  0.009628  0.030453  0.316099  0.068776  0.280912   \n",
       "\n",
       "                 ZWE  \n",
       "year                  \n",
       "1971-01-01  0.000000  \n",
       "1972-01-01  0.004873  \n",
       "1973-01-01  0.039725  "
      ]
     },
     "execution_count": 13,
     "metadata": {},
     "output_type": "execute_result"
    }
   ],
   "source": [
    "from sklearn.preprocessing import MinMaxScaler\n",
    "\n",
    "for country in arima.columns:\n",
    "    scaler = MinMaxScaler()\n",
    "    scaler.fit(arima[[country]])\n",
    "    arima[country] = scaler.transform(arima[[country]])\n",
    "    \n",
    "arima.head(3)"
   ]
  },
  {
   "cell_type": "markdown",
   "id": "e7dd1329",
   "metadata": {},
   "source": [
    "### Stationarity check"
   ]
  },
  {
   "cell_type": "code",
   "execution_count": 14,
   "id": "ec7ab890",
   "metadata": {},
   "outputs": [],
   "source": [
    "from statsmodels.tsa.seasonal import seasonal_decompose\n",
    "from statsmodels.tsa.seasonal import STL\n",
    "from statsmodels.tsa.stattools import adfuller"
   ]
  },
  {
   "cell_type": "code",
   "execution_count": 15,
   "id": "d2a10a90",
   "metadata": {},
   "outputs": [],
   "source": [
    "decompose_method = ['additive', 'multiplicative', 'stl']"
   ]
  },
  {
   "cell_type": "code",
   "execution_count": 16,
   "id": "9962e11b",
   "metadata": {},
   "outputs": [
    {
     "data": {
      "application/vnd.jupyter.widget-view+json": {
       "model_id": "f575c3e8842948e0badf6fdc7625f540",
       "version_major": 2,
       "version_minor": 0
      },
      "text/plain": [
       "interactive(children=(Dropdown(description='country', options=('AUS', 'BRA', 'CAN', 'CHN', 'DEU', 'FRA', 'GBR'…"
      ]
     },
     "metadata": {},
     "output_type": "display_data"
    }
   ],
   "source": [
    "from pmdarima.arima.utils import ndiffs\n",
    "\n",
    "%matplotlib inline\n",
    "@interact\n",
    "def stationarity_plot(country=arima.columns, model=decompose_method):\n",
    "    \n",
    "    display(f'the dataset needs d = {ndiffs(arima[country])}')\n",
    "    \n",
    "    if model == 'stl':\n",
    "        decompose = STL(arima[country]).fit()\n",
    "    else:\n",
    "        decompose = seasonal_decompose(x=arima[country], model=model)\n",
    "    decompose.plot()"
   ]
  },
  {
   "cell_type": "markdown",
   "id": "14e6936f",
   "metadata": {},
   "source": [
    "### Hyperparameters choice"
   ]
  },
  {
   "cell_type": "code",
   "execution_count": 17,
   "id": "4f7717c3",
   "metadata": {},
   "outputs": [],
   "source": [
    "import warnings\n",
    "from statsmodels.tools.sm_exceptions import ValueWarning, ConvergenceWarning\n",
    "warnings.simplefilter('ignore', ValueWarning)\n",
    "warnings.simplefilter('ignore', ConvergenceWarning)\n",
    "warnings.simplefilter('ignore', UserWarning)"
   ]
  },
  {
   "cell_type": "code",
   "execution_count": 18,
   "id": "26a0d4d4",
   "metadata": {},
   "outputs": [],
   "source": [
    "test_size = 9"
   ]
  },
  {
   "cell_type": "code",
   "execution_count": 19,
   "id": "c3e242bf",
   "metadata": {},
   "outputs": [],
   "source": [
    "arima_train = arima.iloc[:-test_size, :]\n",
    "arima_test = arima.iloc[-test_size:, :]"
   ]
  },
  {
   "cell_type": "code",
   "execution_count": 20,
   "id": "ac6ddeb7",
   "metadata": {},
   "outputs": [
    {
     "data": {
      "application/vnd.jupyter.widget-view+json": {
       "model_id": "584935d531ac407b9c4faf5047a3624c",
       "version_major": 2,
       "version_minor": 0
      },
      "text/plain": [
       "interactive(children=(Dropdown(description='country', options=('AUS', 'BRA', 'CAN', 'CHN', 'DEU', 'FRA', 'GBR'…"
      ]
     },
     "metadata": {},
     "output_type": "display_data"
    }
   ],
   "source": [
    "import pmdarima as pm\n",
    "\n",
    "horizon=12\n",
    "\n",
    "@interact\n",
    "def arima_auto_parameters_search(country=arima_train.columns):\n",
    "    return pm.auto_arima(arima_train[country],\n",
    "                         start_p=0, max_p=5,\n",
    "                         start_q=0, max_q=5,\n",
    "                         max_order=20,\n",
    "                         trend=None,\n",
    "                         seasonal=False,\n",
    "                         n_jobs=-1,\n",
    "                         trace=True,\n",
    "                         alpha=0.05,\n",
    "                         scoring='mae')\n",
    "\n"
   ]
  },
  {
   "cell_type": "markdown",
   "id": "63984f21",
   "metadata": {},
   "source": [
    "### Prediction"
   ]
  },
  {
   "cell_type": "code",
   "execution_count": 21,
   "id": "37e2d3fc",
   "metadata": {},
   "outputs": [],
   "source": [
    "from statsmodels.tsa.arima.model import ARIMA\n",
    "from statsmodels.graphics.tsaplots import plot_predict"
   ]
  },
  {
   "cell_type": "code",
   "execution_count": 22,
   "id": "6ca59a99",
   "metadata": {},
   "outputs": [],
   "source": [
    "size = arima.shape[0]"
   ]
  },
  {
   "cell_type": "code",
   "execution_count": 23,
   "id": "a794a6e6",
   "metadata": {},
   "outputs": [
    {
     "data": {
      "application/vnd.jupyter.widget-view+json": {
       "model_id": "f07333cbac7b4f4ca7cdf1b449584696",
       "version_major": 2,
       "version_minor": 0
      },
      "text/plain": [
       "interactive(children=(Dropdown(description='country', options=('AUS', 'BRA', 'CAN', 'CHN', 'DEU', 'FRA', 'GBR'…"
      ]
     },
     "metadata": {},
     "output_type": "display_data"
    }
   ],
   "source": [
    "@interact\n",
    "def plot(country=arima.columns, \n",
    "         p=widgets.IntSlider(min=0, max=5, step=1, value=0),\n",
    "         d=widgets.IntSlider(min=0, max=3, step=1, value=0),\n",
    "         q=widgets.IntSlider(min=0, max=5, step=1, value=0)):\n",
    "    model = ARIMA(arima_train[country], order=(p, d, q), trend='t').fit()\n",
    "    fig, axs = plt.subplots(1, 1, figsize=(12, 5))\n",
    "    axs.plot(arima[country], label=country)\n",
    "    axs.set_title(f'{p} / {d} / {q}')\n",
    "    plot_predict(model, start=0, end=size, ax=axs);\n",
    "    model.summary()"
   ]
  },
  {
   "cell_type": "code",
   "execution_count": null,
   "id": "109d24ce",
   "metadata": {},
   "outputs": [],
   "source": []
  }
 ],
 "metadata": {
  "kernelspec": {
   "display_name": "Python 3 (ipykernel)",
   "language": "python",
   "name": "python3"
  },
  "language_info": {
   "codemirror_mode": {
    "name": "ipython",
    "version": 3
   },
   "file_extension": ".py",
   "mimetype": "text/x-python",
   "name": "python",
   "nbconvert_exporter": "python",
   "pygments_lexer": "ipython3",
   "version": "3.10.6"
  },
  "toc": {
   "base_numbering": 1,
   "nav_menu": {},
   "number_sections": true,
   "sideBar": true,
   "skip_h1_title": false,
   "title_cell": "Table of Contents",
   "title_sidebar": "Contents",
   "toc_cell": false,
   "toc_position": {},
   "toc_section_display": true,
   "toc_window_display": false
  },
  "vscode": {
   "interpreter": {
    "hash": "402e7244a9a98e8871cf0766a98a2025cdf2b5a9800cab2605fc9370e1aab459"
   }
  }
 },
 "nbformat": 4,
 "nbformat_minor": 5
}
